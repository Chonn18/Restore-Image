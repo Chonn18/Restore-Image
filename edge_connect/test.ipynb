{
 "cells": [
  {
   "cell_type": "code",
   "execution_count": 2,
   "metadata": {},
   "outputs": [
    {
     "name": "stderr",
     "output_type": "stream",
     "text": [
      "Traceback (most recent call last):\n",
      "  File \"d:\\Ky8\\XLAnh\\project\\Restore-Image\\edge_connect\\train.py\", line 2, in <module>\n",
      "    main(mode=1)\n",
      "  File \"d:\\Ky8\\XLAnh\\project\\Restore-Image\\edge_connect\\main.py\", line 19, in main\n",
      "    config = load_config(mode)\n",
      "  File \"d:\\Ky8\\XLAnh\\project\\Restore-Image\\edge_connect\\main.py\", line 99, in load_config\n",
      "    config = Config(config_path)\n",
      "  File \"d:\\Ky8\\XLAnh\\project\\Restore-Image\\edge_connect\\src\\config.py\", line 8, in __init__\n",
      "    self._dict = yaml.load(self._yaml)\n",
      "TypeError: load() missing 1 required positional argument: 'Loader'\n"
     ]
    }
   ],
   "source": [
    "!python train.py --model 1 --checkpoints ./content/Restore-Image/edge_connect/data/cpoints/celeba"
   ]
  }
 ],
 "metadata": {
  "kernelspec": {
   "display_name": "Python 3",
   "language": "python",
   "name": "python3"
  },
  "language_info": {
   "codemirror_mode": {
    "name": "ipython",
    "version": 3
   },
   "file_extension": ".py",
   "mimetype": "text/x-python",
   "name": "python",
   "nbconvert_exporter": "python",
   "pygments_lexer": "ipython3",
   "version": "3.10.7"
  }
 },
 "nbformat": 4,
 "nbformat_minor": 2
}
